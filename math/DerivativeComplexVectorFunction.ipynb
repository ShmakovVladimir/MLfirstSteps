{
 "cells": [
  {
   "cell_type": "markdown",
   "metadata": {},
   "source": [
    "# Вычисление производной сложной вектор функции\n",
    "Будем вычислять производную функции $f(X,W) = \\sigma(\\nu(X,W))$, где $\\nu$ - операция скалярного произведения. $X$ - вектор строка входных параметров, $W$ - столбец весов."
   ]
  },
  {
   "cell_type": "markdown",
   "metadata": {},
   "source": [
    "### Импортируем библиотеки"
   ]
  },
  {
   "cell_type": "code",
   "execution_count": 382,
   "metadata": {},
   "outputs": [],
   "source": [
    "import numpy as np\n",
    "import matplotlib.pyplot as plt\n",
    "from collections.abc import Callable"
   ]
  },
  {
   "cell_type": "markdown",
   "metadata": {},
   "source": [
    "### Опишем рассматриваемую функцию"
   ]
  },
  {
   "cell_type": "code",
   "execution_count": 383,
   "metadata": {},
   "outputs": [],
   "source": [
    "def sigmoid(x: np.ndarray):\n",
    "    return 1/(1+np.exp(-x))\n",
    "def func(X: np.ndarray,W: np.ndarray):\n",
    "    N = np.dot(X,W)\n",
    "    return sigmoid(N)"
   ]
  },
  {
   "cell_type": "markdown",
   "metadata": {},
   "source": [
    "### Вычисление производной\n",
    "\n",
    "Найдем частную производную по $X$: $$\\frac{\\partial f}{\\partial X} = \\frac{\\partial \\sigma}{\\partial u}(\\nu(X,W)) \\cdot \\frac{\\partial \\nu}{\\partial X}(X,W)$$\n",
    "\n",
    "$\\nu$ - обычная функция скалярного произведения: $\\nu(X,W) = x_1 w_1 + x_2 w_2 + ... + x_n w_n$. Тогда $$w_j = \\frac{\\partial \\nu}{\\partial x_j}$$\n",
    "\n",
    "Таким образом $$\\frac{\\partial \\nu}{\\partial X} = W^T = [w_1,w_2, ... , w_n]$$\n",
    "\n",
    "Производная же $\\frac{\\partial \\sigma}{\\partial u}(\\nu(X,W))$ - обычное число. И аргумент функции $\\sigma$ - $x_1 w_1 + x_2 w_2 + ... + x_n w_n$ - число. \n",
    "\n",
    "Теперь понятен алгоритм решения данной задачи:\n",
    "1) Пишем функцию для приближенного вычисления производной **числовой** функции.\n",
    "2) Умножаем результат вычисления производной $\\frac{\\partial \\sigma}{\\partial u}$ в заданной точке на строку $W^T$\n",
    "\n"
   ]
  },
  {
   "cell_type": "markdown",
   "metadata": {},
   "source": [
    "#### Код приближенного вычисления производной в заданной точке"
   ]
  },
  {
   "cell_type": "code",
   "execution_count": 384,
   "metadata": {},
   "outputs": [],
   "source": [
    "def derivative(func: Callable[[np.ndarray],np.ndarray],\n",
    "               points: np.ndarray,\n",
    "               delta: float= np.power(1/10,6)) -> np.ndarray:\n",
    "    return (func(points+delta)-func(points-delta))/(2*delta)"
   ]
  },
  {
   "cell_type": "markdown",
   "metadata": {},
   "source": [
    "### Итоговая функция"
   ]
  },
  {
   "cell_type": "code",
   "execution_count": 385,
   "metadata": {},
   "outputs": [],
   "source": [
    "def funcDeriv(X: np.ndarray,W: np.ndarray):\n",
    "    #вычисление производной при заданных X и W, в заданных точках points\n",
    "    #производная сигмоиды в заданной точке\n",
    "    dSbydU = derivative(sigmoid,np.dot(X,W))\n",
    "    #результат - произведение вычисленного числа на строку\n",
    "    return (W.T)*dSbydU"
   ]
  },
  {
   "cell_type": "markdown",
   "metadata": {},
   "source": [
    "### Проверка результата"
   ]
  },
  {
   "cell_type": "markdown",
   "metadata": {},
   "source": [
    "Построим график $f$, как функции от одной переменной. Для этого оставим <<свободной>> одну из переменных, а остальные зафиксируем."
   ]
  },
  {
   "cell_type": "code",
   "execution_count": 386,
   "metadata": {},
   "outputs": [
    {
     "data": {
      "image/png": "[encoded data removed]",
      "text/plain": [
       "<Figure size 432x288 with 1 Axes>"
      ]
     },
     "metadata": {
      "needs_background": "light"
     },
     "output_type": "display_data"
    }
   ],
   "source": [
    "X = (np.random.random(3)-0.5)*5\n",
    "W = (np.random.random(3).T-0.5)*5\n",
    "\n",
    "# Зафиксируем все значения, кроме x_3. Построим график заданной функции как график зависимости от одной перемнной\n",
    "xAxes = np.linspace(-10,10,100)\n",
    "y = [func([X[0],X[1],x],W) for x in xAxes]\n",
    "\n",
    "\n",
    "fig,ax = plt.subplots()\n",
    "plt.plot(xAxes,y,label = 'function')\n",
    "ax.legend(loc = 'lower right')\n",
    "plt.grid()\n",
    "plt.show()"
   ]
  },
  {
   "cell_type": "markdown",
   "metadata": {},
   "source": [
    "По определению дифференцируемости функции: $$\\Delta f(X^{(0)}) \\sim \\sum_{i=1}^{n} \\frac{\\partial f}{\\partial x_i}(x^{(0)}) \\cdot \\Delta x^{(0)}$$\n",
    "\n",
    "В нашем случае не равно нулю только $\\Delta x_3$. Попробуем умножить изменение $X$ на полученное значение градиента. Проверим, совпадает ли результат(в пределах погрешности) с изменением функции"
   ]
  },
  {
   "cell_type": "code",
   "execution_count": 387,
   "metadata": {},
   "outputs": [
    {
     "name": "stdout",
     "output_type": "stream",
     "text": [
      "-0.005661469038891952\n",
      "-0.005618011251676158\n"
     ]
    }
   ],
   "source": [
    "maxStartPoint = 7 #положение начальной точки будет в диапазоне (-maxStartPoint,maxStartPoint)\n",
    "startPoint = (0.5-np.random.random())*maxStartPoint #начальная точка для x3\n",
    "deltaX = 0.05 #изменение аргмуента x3\n",
    "\n",
    "yDeriv = funcDeriv([X[0],X[1],startPoint],W)\n",
    "deltaF = func([X[0],X[1],startPoint+deltaX],W)-func([X[0],X[1],startPoint],W)\n",
    "print(yDeriv[2]*deltaX)\n",
    "print(deltaF)"
   ]
  },
  {
   "cell_type": "markdown",
   "metadata": {},
   "source": [
    "Как видим, значения совпали(в пределах погрешности). Попробуем изобразить это на графике"
   ]
  },
  {
   "cell_type": "code",
   "execution_count": 389,
   "metadata": {},
   "outputs": [
    {
     "data": {
      "image/png": "[encoded data removed]",
      "text/plain": [
       "<Figure size 432x288 with 1 Axes>"
      ]
     },
     "metadata": {
      "needs_background": "light"
     },
     "output_type": "display_data"
    }
   ],
   "source": [
    "xAxes = np.linspace(startPoint-10*deltaX,startPoint+10*deltaX,100)\n",
    "y = [func([X[0],X[1],x],W) for x in xAxes]\n",
    "approx =  func([X[0],X[1],startPoint],W)+yDeriv[2]*(xAxes-startPoint)\n",
    "\n",
    "fig,ax = plt.subplots()\n",
    "plt.plot(xAxes,y,label = 'function')\n",
    "plt.plot(xAxes,approx,'--',label = 'linear approximation')\n",
    "plt.plot([startPoint],[func([X[0],X[1],startPoint],W)],'o',label = 'derivativeDot')\n",
    "ax.legend(loc = 'lower right')\n",
    "plt.show()"
   ]
  }
 ],
 "metadata": {
  "kernelspec": {
   "display_name": "Python 3.9.1 64-bit (system)",
   "language": "python",
   "name": "python3"
  },
  "language_info": {
   "codemirror_mode": {
    "name": "ipython",
    "version": 3
   },
   "file_extension": ".py",
   "mimetype": "text/x-python",
   "name": "python",
   "nbconvert_exporter": "python",
   "pygments_lexer": "ipython3",
   "version": "3.9.1"
  },
  "orig_nbformat": 4,
  "vscode": {
   "interpreter": {
    "hash": "c46ca4107e02cc35b8a86c8d0e6548e94f11f1e0488972cbcfefa78e90422c8a"
   }
  }
 },
 "nbformat": 4,
 "nbformat_minor": 2
}
