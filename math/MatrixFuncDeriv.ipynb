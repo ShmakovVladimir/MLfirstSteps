{
 "cells": [
  {
   "cell_type": "code",
   "execution_count": 38,
   "metadata": {},
   "outputs": [],
   "source": [
    "import matplotlib.pyplot as plt\n",
    "import numpy as np\n",
    "from IPython.display import display\n",
    "from collections.abc import Callable\n",
    "import pandas"
   ]
  },
  {
   "cell_type": "markdown",
   "metadata": {},
   "source": [
    "### Описание исходной функции $\\sigma(\\nu(X,W))$"
   ]
  },
  {
   "cell_type": "code",
   "execution_count": 39,
   "metadata": {},
   "outputs": [],
   "source": [
    "def sigmoid(x: np.ndarray):\n",
    "    return 1/(1+np.exp(-x))\n",
    "def func(X: np.ndarray,W: np.ndarray):\n",
    "    return sigmoid(np.dot(X,W))"
   ]
  },
  {
   "cell_type": "markdown",
   "metadata": {},
   "source": [
    "Теперь найдем производную данной функции согласно ранее описанному правилу"
   ]
  },
  {
   "cell_type": "code",
   "execution_count": 40,
   "metadata": {},
   "outputs": [],
   "source": [
    "def deriv(func: Callable[[np.ndarray],np.ndarray],X: np.ndarray,delta: float = np.power(1/10,6)):\n",
    "    return (func(X+delta)-func(X-delta))/(2*delta)\n",
    "def derivFunc(X: np.ndarray,W: np.ndarray):\n",
    "    #ищем производную соглавно ранее написанной теории\n",
    "    dSdN = deriv(sigmoid,np.dot(X,W))\n",
    "    return np.dot(dSdN,W.T)\n"
   ]
  },
  {
   "cell_type": "markdown",
   "metadata": {},
   "source": [
    "### Проверим результат согласно определению дифференцируемости"
   ]
  },
  {
   "cell_type": "code",
   "execution_count": 41,
   "metadata": {},
   "outputs": [
    {
     "data": {
      "text/html": [
       "<div>\n",
       "<style scoped>\n",
       "    .dataframe tbody tr th:only-of-type {\n",
       "        vertical-align: middle;\n",
       "    }\n",
       "\n",
       "    .dataframe tbody tr th {\n",
       "        vertical-align: top;\n",
       "    }\n",
       "\n",
       "    .dataframe thead th {\n",
       "        text-align: right;\n",
       "    }\n",
       "</style>\n",
       "<table border=\"1\" class=\"dataframe\">\n",
       "  <thead>\n",
       "    <tr style=\"text-align: right;\">\n",
       "      <th></th>\n",
       "      <th>jk</th>\n",
       "      <th>sumDeltaF</th>\n",
       "      <th>sumDifferential</th>\n",
       "    </tr>\n",
       "  </thead>\n",
       "  <tbody>\n",
       "    <tr>\n",
       "      <th>0</th>\n",
       "      <td>11</td>\n",
       "      <td>0.000394</td>\n",
       "      <td>0.000406</td>\n",
       "    </tr>\n",
       "    <tr>\n",
       "      <th>1</th>\n",
       "      <td>12</td>\n",
       "      <td>-0.003132</td>\n",
       "      <td>-0.003148</td>\n",
       "    </tr>\n",
       "    <tr>\n",
       "      <th>2</th>\n",
       "      <td>13</td>\n",
       "      <td>0.000200</td>\n",
       "      <td>0.000199</td>\n",
       "    </tr>\n",
       "    <tr>\n",
       "      <th>3</th>\n",
       "      <td>21</td>\n",
       "      <td>0.000830</td>\n",
       "      <td>0.000820</td>\n",
       "    </tr>\n",
       "    <tr>\n",
       "      <th>4</th>\n",
       "      <td>22</td>\n",
       "      <td>-0.008398</td>\n",
       "      <td>-0.008364</td>\n",
       "    </tr>\n",
       "    <tr>\n",
       "      <th>5</th>\n",
       "      <td>23</td>\n",
       "      <td>-0.003385</td>\n",
       "      <td>-0.003359</td>\n",
       "    </tr>\n",
       "    <tr>\n",
       "      <th>6</th>\n",
       "      <td>31</td>\n",
       "      <td>-0.000623</td>\n",
       "      <td>-0.000617</td>\n",
       "    </tr>\n",
       "    <tr>\n",
       "      <th>7</th>\n",
       "      <td>32</td>\n",
       "      <td>-0.002065</td>\n",
       "      <td>-0.002074</td>\n",
       "    </tr>\n",
       "    <tr>\n",
       "      <th>8</th>\n",
       "      <td>33</td>\n",
       "      <td>0.000022</td>\n",
       "      <td>0.000023</td>\n",
       "    </tr>\n",
       "  </tbody>\n",
       "</table>\n",
       "</div>"
      ],
      "text/plain": [
       "   jk  sumDeltaF  sumDifferential\n",
       "0  11   0.000394         0.000406\n",
       "1  12  -0.003132        -0.003148\n",
       "2  13   0.000200         0.000199\n",
       "3  21   0.000830         0.000820\n",
       "4  22  -0.008398        -0.008364\n",
       "5  23  -0.003385        -0.003359\n",
       "6  31  -0.000623        -0.000617\n",
       "7  32  -0.002065        -0.002074\n",
       "8  33   0.000022         0.000023"
      ]
     },
     "metadata": {},
     "output_type": "display_data"
    }
   ],
   "source": [
    "Xstart = (np.random.random([3,3])-0.5)*5\n",
    "W = (np.random.random([3,2])-0.5)*5\n",
    "\n",
    "pointStart = (np.random.random()-0.5)*4\n",
    "delta = 0.01\n",
    "data = {\"jk\": [],\n",
    "        \"sumDeltaF\": [],\n",
    "        \"sumDifferential\": []}\n",
    "\n",
    "for j in range(Xstart.shape[0]):\n",
    "    for k in range(Xstart.shape[1]):\n",
    "        # фиксируем все x, кроме x_jk\n",
    "        XpointStart = Xstart.copy()\n",
    "        XpointFinish = Xstart.copy()\n",
    "        XpointStart[j][k] = pointStart\n",
    "        XpointFinish[j][k] = pointStart+delta\n",
    "        deltaF = -func(XpointStart,W) + func(XpointFinish,W)\n",
    "        deltaX = np.zeros_like(Xstart)\n",
    "        deltaX[j][k] = delta\n",
    "        gradient = derivFunc(XpointStart,W)\n",
    "        differential = deltaX*gradient\n",
    "\n",
    "        \n",
    "        data['jk'].append(str(j+1)+str(k+1))\n",
    "        data['sumDeltaF'].append(np.sum(deltaF))\n",
    "        data['sumDifferential'].append(np.sum(differential))\n",
    "\n",
    "dataFrame = pandas.DataFrame(data)\n",
    "\n",
    "display(dataFrame)\n",
    "\n",
    "\n",
    "\n",
    "        \n",
    "\n",
    "        "
   ]
  }
 ],
 "metadata": {
  "kernelspec": {
   "display_name": "Python 3.9.1 64-bit (system)",
   "language": "python",
   "name": "python3"
  },
  "language_info": {
   "codemirror_mode": {
    "name": "ipython",
    "version": 3
   },
   "file_extension": ".py",
   "mimetype": "text/x-python",
   "name": "python",
   "nbconvert_exporter": "python",
   "pygments_lexer": "ipython3",
   "version": "3.9.1"
  },
  "orig_nbformat": 4,
  "vscode": {
   "interpreter": {
    "hash": "c46ca4107e02cc35b8a86c8d0e6548e94f11f1e0488972cbcfefa78e90422c8a"
   }
  }
 },
 "nbformat": 4,
 "nbformat_minor": 2
}
