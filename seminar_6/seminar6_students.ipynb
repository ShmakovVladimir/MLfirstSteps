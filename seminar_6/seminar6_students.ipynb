{
 "cells": [
  {
   "cell_type": "code",
   "execution_count": 1,
   "metadata": {},
   "outputs": [],
   "source": [
    "import numpy as np\n",
    "import random\n",
    "import scipy.stats as sps\n",
    "import pandas as pd\n",
    "\n",
    "import matplotlib.pyplot as plt\n",
    "import seaborn as sns\n",
    "sns.set(font_scale=1.8)"
   ]
  },
  {
   "cell_type": "code",
   "execution_count": 2,
   "metadata": {},
   "outputs": [],
   "source": [
    "# зафиксируем сид для воспроизводимости генерации\n",
    "SEED = 42\n",
    "np.random.seed(SEED)\n",
    "random.seed(SEED)"
   ]
  },
  {
   "cell_type": "markdown",
   "metadata": {},
   "source": [
    "## Критерий Вальда\n",
    "\n",
    "Вы провели эксперимент и получили данные из экспоненциального распределения. "
   ]
  },
  {
   "cell_type": "code",
   "execution_count": 4,
   "metadata": {},
   "outputs": [],
   "source": [
    "sample = [0.11731702, 0.75253036, 0.32918642, 0.22823564, 0.04240622,\n",
    "        0.04239907, 0.01495969, 0.50280772, 0.22977054, 0.30781252,\n",
    "        0.00519983, 0.87588937, 0.44660739, 0.05967191, 0.05016975,\n",
    "        0.05065286, 0.09068843, 0.18598196, 0.14138427, 0.08605575,\n",
    "        0.23659272, 0.03755863, 0.08637888, 0.1140693 , 0.15223367,\n",
    "        0.384484  , 0.05568397, 0.18050729, 0.22437618, 0.01189096]"
   ]
  },
  {
   "cell_type": "markdown",
   "metadata": {},
   "source": [
    "Вы хотите проверить, является ли это распределение с параметром $\\lambda=2$. Используя Критерий Вальда, сделайте вывод по данному предположению.\n",
    "\n",
    "### Двусторонняя альтернатива\n",
    "$X_1, ... X_n$ - выборка из распределения $Exp(\\theta)$.  \n",
    "Проверьте гипотезу $\\mathsf{H}_0\\colon \\theta = 2$ vs. $\\mathsf{H}_1\\colon \\theta \\neq 2$"
   ]
  },
  {
   "attachments": {},
   "cell_type": "markdown",
   "metadata": {},
   "source": [
    "Из лекции вы узнали про критерий Вальда.\n",
    "Для случая двусторонней альтернативы $\\mathsf{H}_1\\colon \\theta \\neq \\theta_0$ критерий имел следующий вид:\n",
    "$$\\large{S = \\left\\{ \\left|\\sqrt{n} \\frac{\\hat{\\theta} - \\theta_0}{\\hat{\\sigma}} \\right| > z_{1 - \\frac{\\alpha}{2}} \\right\\}}$$\n",
    "\n",
    "где $\\hat{\\theta}$ &mdash; асимптотически нормальная оценка $\\theta$ с асимптотической дисперсией $\\sigma^2(\\theta)$, \n",
    "$\\hat{\\sigma}$ &mdash; состоятельная оценка $\\sigma(\\theta)$.  \n",
    "\n",
    "Эквивалентный асимптотичсекий доверительный интервал для параметра $\\theta$ уровня доверия $1-\\alpha$\n",
    "$$C = \\left( \\hat{\\theta} - \\frac{z_{1-\\alpha/2} \\hat{\\sigma}}{\\sqrt{n}}, \\hat{\\theta} + \\frac{z_{1-\\alpha/2} \\hat{\\sigma}}{\\sqrt{n}}\\right)$$\n",
    "\n",
    "На первой лекции вы получали, что $\\frac{1}{\\overline{X}}$ &mdash; АНО для параметра $\\theta$ c асимптотической дисперсией $\\theta^2$\n",
    "\n",
    "**Выпишите состоятельную оценку дисперсии и статистику критерия Вальда**\n"
   ]
  },
  {
   "attachments": {},
   "cell_type": "markdown",
   "metadata": {},
   "source": [
    "**Ответ:**  \n",
    "\n",
    "Состоятельная оценка для дисперсии:\n",
    "\n",
    "$$\n",
    "\\frac{1}{\\overline{X}^{2}} = \\sigma^{2}\n",
    "$$"
   ]
  },
  {
   "cell_type": "markdown",
   "metadata": {},
   "source": [
    "Первым шагом необходимо выставить уровень значимости, поставим $\\alpha = 0.05$"
   ]
  },
  {
   "cell_type": "code",
   "execution_count": 5,
   "metadata": {},
   "outputs": [],
   "source": [
    "alpha = 0.05\n",
    "theta = 2 # тета из основной гипотезы\n",
    "n = len(sample)"
   ]
  },
  {
   "cell_type": "markdown",
   "metadata": {},
   "source": [
    "Посчитаем квантиль (критическое значение)"
   ]
  },
  {
   "cell_type": "code",
   "execution_count": 6,
   "metadata": {},
   "outputs": [
    {
     "data": {
      "text/plain": [
       "1.959963984540054"
      ]
     },
     "execution_count": 6,
     "metadata": {},
     "output_type": "execute_result"
    }
   ],
   "source": [
    "z = sps.norm.ppf(1 - alpha / 2)\n",
    "z"
   ]
  },
  {
   "cell_type": "markdown",
   "metadata": {},
   "source": [
    "Посчитайте статистику, которую будете сравнивать с критическим значением. Выведите значение полученной статистики."
   ]
  },
  {
   "cell_type": "code",
   "execution_count": 7,
   "metadata": {},
   "outputs": [
    {
     "data": {
      "text/plain": [
       "3.2704505437191247"
      ]
     },
     "execution_count": 7,
     "metadata": {},
     "output_type": "execute_result"
    }
   ],
   "source": [
    "statistic = np.sqrt(n) * (1 / np.mean(sample) - theta) * np.mean(sample)\n",
    "statistic"
   ]
  },
  {
   "cell_type": "markdown",
   "metadata": {},
   "source": [
    "Сравним модуль статистики с критическим значением"
   ]
  },
  {
   "cell_type": "code",
   "execution_count": 8,
   "metadata": {},
   "outputs": [
    {
     "data": {
      "text/plain": [
       "True"
      ]
     },
     "execution_count": 8,
     "metadata": {},
     "output_type": "execute_result"
    }
   ],
   "source": [
    "np.absolute(statistic) > z"
   ]
  },
  {
   "cell_type": "markdown",
   "metadata": {},
   "source": [
    "**Какой вывод можно сделать?**"
   ]
  },
  {
   "attachments": {},
   "cell_type": "markdown",
   "metadata": {},
   "source": [
    "**Вывод:** \n",
    "\n",
    "Гипотеза опровергнута $\\to$ так как значение статистики больше критического $\\to$ $\\theta \\neq 2$"
   ]
  },
  {
   "cell_type": "markdown",
   "metadata": {},
   "source": [
    "Посчитайте доверительный интервал"
   ]
  },
  {
   "cell_type": "code",
   "execution_count": 9,
   "metadata": {},
   "outputs": [
    {
     "name": "stdout",
     "output_type": "stream",
     "text": [
      "Доверительный интервал (3.19, 6.74)\n"
     ]
    }
   ],
   "source": [
    "left = 1 / np.mean(sample) - sps.norm.ppf(1 - alpha / 2) / (np.sqrt(n) * np.mean(sample))\n",
    "right = 1 / np.mean(sample) + sps.norm.ppf(1 - alpha / 2) / (np.sqrt(n) * np.mean(sample))\n",
    "print(f\"Доверительный интервал ({left:.2f}, {right:.2f})\")"
   ]
  },
  {
   "cell_type": "markdown",
   "metadata": {},
   "source": [
    "**Какой вывод можно сделать?**"
   ]
  },
  {
   "attachments": {},
   "cell_type": "markdown",
   "metadata": {},
   "source": [
    "**Вывод:** \n",
    "\n",
    "$\\mathfrak{H_{0}} $ отвергнута так как $\\theta$ меньше левой границы доверительного интервала"
   ]
  },
  {
   "attachments": {},
   "cell_type": "markdown",
   "metadata": {},
   "source": [
    "На лекции вы узнали про p-value &mdash; это вероятность получить при справедливости $H_0$ такое значение статистики $t = T(x)$ или еще более экстремальное, то есть в случае двустороннего критерия\n",
    "$$p(x) = \\mathsf{P}_0(T(X) \\geq|t|) + \\mathsf{P}_0(T(X) \\leq -|t|)$$\n",
    "Посчитайте p-value. Для этого можно использовать функции из библиотеки `scipy.stats`."
   ]
  },
  {
   "cell_type": "code",
   "execution_count": 10,
   "metadata": {},
   "outputs": [
    {
     "data": {
      "text/plain": [
       "0.0010737631605120244"
      ]
     },
     "execution_count": 10,
     "metadata": {},
     "output_type": "execute_result"
    }
   ],
   "source": [
    "p_value = 2 * sps.norm.sf(statistic)\n",
    "p_value"
   ]
  },
  {
   "cell_type": "markdown",
   "metadata": {},
   "source": [
    "Оформите подсчет статистики и  p-value в виде одной функции."
   ]
  },
  {
   "cell_type": "code",
   "execution_count": 11,
   "metadata": {},
   "outputs": [],
   "source": [
    "def wald_test_two_sided(sample, theta, estimation_theta, estimation_sigma):\n",
    "    \"\"\"\n",
    "    param sample: реализация выборки\n",
    "    param theta: истинное значение параметра\n",
    "    param estimation_theta: оценка параметра\n",
    "    param estimation_sigma: оценка асимптотической дисперсии оценки estimation_sigma\n",
    "\n",
    "    return statistic\n",
    "    return p_value\n",
    "    return conf_int - доверительный интервал\n",
    "    \"\"\"\n",
    "    n = len(sample)\n",
    "    statistic = np.sqrt(n) * (estimation_theta - theta) / estimation_sigma\n",
    "    p_value = 2 * sps.norm.sf(np.abs(statistic))\n",
    "    left = 1 / np.mean(sample) - sps.norm.ppf(1 - alpha / 2) / (np.sqrt(n) * np.mean(sample))\n",
    "    right = 1 / np.mean(sample) + sps.norm.ppf(1 - alpha / 2) / (np.sqrt(n) * np.mean(sample))\n",
    "    result = {'p_value': p_value, 'left': left, 'right': right, 'statistic': statistic}\n",
    "    return result"
   ]
  },
  {
   "cell_type": "markdown",
   "metadata": {},
   "source": [
    "### Правосторонняя и левосторонняя альтернативы"
   ]
  },
  {
   "cell_type": "code",
   "execution_count": null,
   "metadata": {},
   "outputs": [],
   "source": [
    "def wald_test(sample, theta, estimation_theta, estimation_sigma, alternative='two_sided'):\n",
    "    \"\"\"\n",
    "    param sample: реализация выборки\n",
    "    param theta: истинное значение параметра\n",
    "    param estimation_theta: оценка параметра\n",
    "    param estimation_sigma: оценка асимптотической дисперсии оценки estimation_sigma\n",
    "    param alternative: вид альтернативной гипотезы, может принимать одно из значений 'two_sided', 'less', 'greater'\n",
    "\n",
    "    return statistic\n",
    "    return p_value\n",
    "    return conf_int - доверительный интервал\n",
    "    \"\"\"\n",
    "    n = len(sample)\n",
    "    statistic = np.sqrt(n) * (estimation_theta - theta) / estimation_sigma\n",
    "    \n",
    "    if alternative is 'two_sided':\n",
    "        return wald_test_two_sided(sample, theta, estimation_theta, estimation_sigma)\n",
    "    if alternative is 'less':\n",
    "        p_value = sps.norm.cdf(statistic)\n",
    "        left = 1 / np.mean(sample) - sps.norm.ppf(1 - alpha / 2) / (np.sqrt(n) * np.mean(sample))\n",
    "        right = np.inf\n",
    "        \n",
    "        \n",
    "    return None\n",
    "    "
   ]
  },
  {
   "cell_type": "markdown",
   "metadata": {},
   "source": [
    "Проверьте гипотезы с провосторонней и левосторонней альтернативой"
   ]
  },
  {
   "cell_type": "code",
   "execution_count": null,
   "metadata": {},
   "outputs": [],
   "source": [
    "<...>"
   ]
  },
  {
   "cell_type": "markdown",
   "metadata": {},
   "source": [
    "**Какие выводы вы можете сделать?**"
   ]
  },
  {
   "attachments": {},
   "cell_type": "markdown",
   "metadata": {},
   "source": [
    "**Вывод:** <...>"
   ]
  },
  {
   "cell_type": "markdown",
   "metadata": {},
   "source": [
    "Теперь посмотрим на выборку меньших размеров"
   ]
  },
  {
   "cell_type": "code",
   "execution_count": null,
   "metadata": {},
   "outputs": [],
   "source": [
    "sample_cut = [0.11731702, 0.75253036, 0.32918642, 0.22823564, 0.04240622,\n",
    "        0.04239907, 0.01495969, 0.50280772, 0.22977054, 0.30781252]"
   ]
  },
  {
   "attachments": {},
   "cell_type": "markdown",
   "metadata": {},
   "source": [
    "Выведите статистику, p-value и доверительный интервал. Какой вывод можно сделать из полученных значений?"
   ]
  },
  {
   "cell_type": "code",
   "execution_count": null,
   "metadata": {},
   "outputs": [],
   "source": [
    "<...>"
   ]
  },
  {
   "attachments": {},
   "cell_type": "markdown",
   "metadata": {},
   "source": [
    "**Вывод:** <...>"
   ]
  },
  {
   "attachments": {},
   "cell_type": "markdown",
   "metadata": {},
   "source": [
    "---\n",
    "# Реальный уровень значимости\n",
    "\n",
    "Напомним, что реальным уровнем значимости критерия $\\mathsf{H}_0 \\colon \\theta = \\theta_0$ vs. $\\mathsf{H}_1 \\colon \\theta \\neq \\theta_0$ называется $\\mathsf{P}_{\\theta_0}(X \\in S)$. Поскольку критерий Вальда асимптотический, при фиксированных $n$ он может отличаться от $\\alpha$. В таком случае бывает полезно экспериментально определить реальный уровень значимости с помощью метода Монте-Карло."
   ]
  },
  {
   "cell_type": "markdown",
   "metadata": {},
   "source": [
    "С помощью статистических методов можно проверить человека на наличие экстрасенсорных способностей: предложим ему угадать последовательность, состоящую из двух цветов, длины 100. \n",
    "\n",
    "Сформулируем задачу на статистическом языке: \n",
    "\n",
    "$X_1...X_{100}$ &mdash; выборка из распределения $Bern(p)$\n",
    "\n",
    "$p=0.5$ отвечает случайному угадыванию.\n",
    "\n",
    "Cгенерируйте эту выборку."
   ]
  },
  {
   "cell_type": "code",
   "execution_count": null,
   "metadata": {},
   "outputs": [],
   "source": [
    "sample_size = 100\n",
    "sample = <...>"
   ]
  },
  {
   "cell_type": "markdown",
   "metadata": {},
   "source": [
    "Проверьте гипотезу: $\\mathsf{H}_0 \\colon p=0.5$ vs $\\mathsf{H}_1 \\colon p \\neq 0.5$. Используйте критерий Вальда.\n",
    "\n",
    "В качестве асимптотически нормальной оценки можно использовать $\\widehat{p} = \\overline{X}$ с асимптотической дисперсией $\\sigma^2(p) = p (1 - p)$.\n",
    "\n",
    "**Выпишите состоятельную оценку дисперсии и статистику критерия Вальда**\n"
   ]
  },
  {
   "attachments": {},
   "cell_type": "markdown",
   "metadata": {},
   "source": [
    "**Ответ:** <...>"
   ]
  },
  {
   "cell_type": "markdown",
   "metadata": {},
   "source": [
    "Примените критерий, используйте реализованную вами функцию."
   ]
  },
  {
   "cell_type": "code",
   "execution_count": null,
   "metadata": {},
   "outputs": [],
   "source": [
    "alpha = 0.05\n",
    "theta = 0.5\n",
    "estimation_theta = <...>\n",
    "estimation_sigma = <...>\n",
    "\n",
    "wald_test(sample, theta, estimation_theta, estimation_sigma)"
   ]
  },
  {
   "attachments": {},
   "cell_type": "markdown",
   "metadata": {},
   "source": [
    "**Какой вывод вы можете сделать?**"
   ]
  },
  {
   "attachments": {},
   "cell_type": "markdown",
   "metadata": {},
   "source": [
    "**Ответ:** <...>"
   ]
  },
  {
   "cell_type": "markdown",
   "metadata": {},
   "source": [
    "Проведи подобный эксперимент 1000 раз и посчитайте долю случаев отвержения гипотезы для определения реального уровня значимости критерия. \n",
    "\n",
    "*Замечание:* поскольку погрешность определения реального уровня значимости оценивается как $\\frac{1}{\\sqrt{k}}$, где $k$ - количество экспериментов, при 1000 повторений точность определения значения составляет $\\approx 0.03$ и не является высокой. Такое значение выбрано для скорости подсчета на семинаре, но в реальных экспериментах его стоит брать намного больше."
   ]
  },
  {
   "cell_type": "code",
   "execution_count": null,
   "metadata": {},
   "outputs": [],
   "source": [
    "samples_count = 1000\n",
    "sample = <...>"
   ]
  },
  {
   "cell_type": "code",
   "execution_count": null,
   "metadata": {},
   "outputs": [],
   "source": [
    "estimation_theta = <...>\n",
    "estimation_sigma = <...>\n",
    "\n",
    "counter = 0\n",
    "for i in range(samples_count):\n",
    "    _, p_value, conf_int = wald_test(sample[i], theta, estimation_theta[i], estimation_sigma[i])\n",
    "    is_rejected = <...>\n",
    "    if is_rejected:\n",
    "        counter += 1\n",
    "\n",
    "counter/samples_count"
   ]
  },
  {
   "attachments": {},
   "cell_type": "markdown",
   "metadata": {},
   "source": [
    "**Вывод:** <...>"
   ]
  },
  {
   "cell_type": "markdown",
   "metadata": {},
   "source": []
  }
 ],
 "metadata": {
  "kernelspec": {
   "display_name": "Python 3 (ipykernel)",
   "language": "python",
   "name": "python3"
  },
  "language_info": {
   "codemirror_mode": {
    "name": "ipython",
    "version": 3
   },
   "file_extension": ".py",
   "mimetype": "text/x-python",
   "name": "python",
   "nbconvert_exporter": "python",
   "pygments_lexer": "ipython3",
   "version": "3.10.6"
  }
 },
 "nbformat": 4,
 "nbformat_minor": 2
}
