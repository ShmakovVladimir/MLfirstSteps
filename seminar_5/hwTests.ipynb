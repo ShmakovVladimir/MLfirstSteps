{
 "cells": [
  {
   "cell_type": "code",
   "execution_count": 99,
   "metadata": {},
   "outputs": [],
   "source": [
    "import matplotlib.pyplot as plt\n",
    "import numpy as np\n",
    "import pandas as pd\n",
    "import typing as tp\n",
    "import scipy.stats as sps"
   ]
  },
  {
   "cell_type": "code",
   "execution_count": 100,
   "metadata": {},
   "outputs": [],
   "source": [
    "def estimator(sample):\n",
    "    '''\n",
    "    Делает необходимые преобразования с выборкой (выполняет подсчет статистики).\n",
    "    Используется в функции bootstrap для вычисления оценок.\n",
    "    \n",
    "    :param sample: массив с числами\n",
    "    :return: оценка, посчитанная по выборке\n",
    "    '''\n",
    "    \n",
    "    return np.mean(sample, axis = 1)\n",
    "\n",
    "\n",
    "def bootstrap(sample: np.ndarray, \n",
    "              B: int = int(1e2))->np.ndarray:\n",
    "    '''\n",
    "    Реализует процедуру бутстрепа.\n",
    "    \n",
    "    :param sample: исходная выборка, по которой будут вычисляться бутстрепные оценки\n",
    "    :param B: число бутстрепных оценок\n",
    "    :return: возвращает массив длины B c бутстрепными оценками\n",
    "    '''\n",
    "\n",
    "    n = len(sample)  # длина выборки\n",
    "    resample = np.random.choice(sample, size = (B, n))\n",
    "    return estimator(resample)"
   ]
  },
  {
   "cell_type": "code",
   "execution_count": 101,
   "metadata": {},
   "outputs": [],
   "source": [
    "def boostrap_normal_confidence_interval(bootstrap_estimations: np.ndarray,\n",
    "                                        sample: np.ndarray,\n",
    "                                        estimator_function: tp.Callable = np.mean,\n",
    "                                        alpha: float = 0.95):\n",
    "    estimation_value = estimator_function(sample)\n",
    "    bootstrap_variance = np.mean(np.power(bootstrap_estimations, 2)) - np.power(np.mean(bootstrap_estimations), 2)\n",
    "    z = np.abs(sps.norm.ppf((1 - alpha) / 2))   \n",
    "    print(z)       \n",
    "    return estimation_value - z * np.sqrt(bootstrap_variance), estimation_value + z * np.sqrt(bootstrap_variance)\n",
    "    \n",
    "\n",
    "    \n",
    "def boostrap_central_confidence_interval(bootstrap_estimations: np.ndarray,\n",
    "                                         sample: np.ndarray,\n",
    "                                         estimator_function: tp.Callable = np.mean, \n",
    "                                         alpha: float = 0.95) -> tuple:\n",
    "    doubled_estimation = 2 * estimator_function(sample)\n",
    "    qLeft = np.quantile(bootstrap_estimations, q = (1 + alpha) / 2)\n",
    "    qRight = np.quantile(bootstrap_estimations, q = (1 - alpha) / 2)\n",
    "    return doubled_estimation - qLeft, doubled_estimation - qRight\n",
    "    \n",
    "def boostrap_quantile_confidence_interval(bootstrap_estimations, alpha=0.95):\n",
    "    qLeft = np.quantile(bootstrap_estimations, q = (1 + alpha) / 2)\n",
    "    qRight = np.quantile(bootstrap_estimations, q = (1 - alpha) / 2)\n",
    "    return (qLeft, qRight)"
   ]
  },
  {
   "cell_type": "code",
   "execution_count": 102,
   "metadata": {},
   "outputs": [],
   "source": [
    "sample = np.array([5, 1, 3, 6, 4])\n"
   ]
  },
  {
   "cell_type": "code",
   "execution_count": 103,
   "metadata": {},
   "outputs": [
    {
     "data": {
      "text/plain": [
       "(2.5999999999999996, 5.199999999999999)"
      ]
     },
     "execution_count": 103,
     "metadata": {},
     "output_type": "execute_result"
    }
   ],
   "source": [
    "boostrap_central_confidence_interval(bootstrap(sample), sample, np.mean)"
   ]
  },
  {
   "cell_type": "code",
   "execution_count": 104,
   "metadata": {},
   "outputs": [
    {
     "name": "stdout",
     "output_type": "stream",
     "text": [
      "1.959963984540054\n"
     ]
    },
    {
     "data": {
      "text/plain": [
       "(2.280508294279058, 5.319491705720941)"
      ]
     },
     "execution_count": 104,
     "metadata": {},
     "output_type": "execute_result"
    }
   ],
   "source": [
    "boostrap_normal_confidence_interval(bootstrap(sample), sample, np.mean)"
   ]
  },
  {
   "cell_type": "code",
   "execution_count": 105,
   "metadata": {},
   "outputs": [
    {
     "data": {
      "text/plain": [
       "(5.0, 2.2)"
      ]
     },
     "execution_count": 105,
     "metadata": {},
     "output_type": "execute_result"
    }
   ],
   "source": [
    "boostrap_quantile_confidence_interval(bootstrap(sample))"
   ]
  }
 ],
 "metadata": {
  "kernelspec": {
   "display_name": "Python 3",
   "language": "python",
   "name": "python3"
  },
  "language_info": {
   "codemirror_mode": {
    "name": "ipython",
    "version": 3
   },
   "file_extension": ".py",
   "mimetype": "text/x-python",
   "name": "python",
   "nbconvert_exporter": "python",
   "pygments_lexer": "ipython3",
   "version": "3.10.6"
  },
  "orig_nbformat": 4
 },
 "nbformat": 4,
 "nbformat_minor": 2
}
