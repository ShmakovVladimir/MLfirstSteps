{
 "cells": [
  {
   "cell_type": "code",
   "execution_count": 1,
   "metadata": {},
   "outputs": [],
   "source": [
    "import numpy as np\n",
    "import matplotlib.pyplot as plt\n",
    "import pandas as pd"
   ]
  },
  {
   "cell_type": "code",
   "execution_count": null,
   "metadata": {},
   "outputs": [],
   "source": [
    "class LinGress:\n",
    "    def __init__(self,X: np.ndarray,Y: np.ndarray):\n",
    "        self.X, self.Y = np.append(X,np.ones((X.shape[0],1)),axis = 1),Y\n",
    "        self.W = np.random.random((self.X.shape[0],1))\n",
    "    def prediction(self,dataToPredict: np.ndarray):\n",
    "        if dataToPredict is None:\n",
    "            return "
   ]
  }
 ],
 "metadata": {
  "kernelspec": {
   "display_name": "Python 3.9.1 64-bit (system)",
   "language": "python",
   "name": "python3"
  },
  "language_info": {
   "codemirror_mode": {
    "name": "ipython",
    "version": 3
   },
   "file_extension": ".py",
   "mimetype": "text/x-python",
   "name": "python",
   "nbconvert_exporter": "python",
   "pygments_lexer": "ipython3",
   "version": "3.9.1"
  },
  "orig_nbformat": 4,
  "vscode": {
   "interpreter": {
    "hash": "c46ca4107e02cc35b8a86c8d0e6548e94f11f1e0488972cbcfefa78e90422c8a"
   }
  }
 },
 "nbformat": 4,
 "nbformat_minor": 2
}
