{
 "cells": [
  {
   "cell_type": "markdown",
   "metadata": {},
   "source": [
    "# Линейная регрессия\n",
    "Напишем функцию, принимающую три параметра - набор наблюдений, набор целей, веса. Функция должна вернуть потерю(ошибку обучения) и набор предсказаний."
   ]
  },
  {
   "cell_type": "code",
   "execution_count": 62,
   "metadata": {},
   "outputs": [],
   "source": [
    "import numpy as np\n",
    "import matplotlib.pyplot as plt\n",
    "from typing import Dict\n",
    "from typing import Tuple\n",
    "import pandas as pd"
   ]
  },
  {
   "cell_type": "code",
   "execution_count": 63,
   "metadata": {},
   "outputs": [],
   "source": [
    "class Lingress:\n",
    "    def __init__(self,X: np.ndarray,Y: np.ndarray):\n",
    "        self.X,self.Y = X,Y\n",
    "        self.W = np.ones((self.X.shape[1],1)).astype(\"float64\") #веса со сдвигом, сичтаем, что в тренировочных данных есть единичка\n",
    "    def prediction(self,dataToPredict: np.ndarray) -> np.ndarray:\n",
    "        return np.dot(dataToPredict,self.W)\n",
    "    def errorFunc(self) -> float:\n",
    "        return float(np.mean(np.power(self.prediction(self.X) - self.Y,2)))\n",
    "    def gradientOfErrorFunc(self)->np.ndarray:\n",
    "        return np.dot(self.X.T, (self.Y - self.prediction(self.X))*(-2))\n",
    "    def Learning(self,learningRate = np.power(1/10,12),epsilon = 0.1):\n",
    "        grad = self.gradientOfErrorFunc()\n",
    "        while self.errorFunc()> epsilon:\n",
    "            print(\"Предсказание:\")\n",
    "            print(self.prediction(self.X))\n",
    "            print()\n",
    "            print(\"Ошибка:\")\n",
    "            print(self.errorFunc())\n",
    "            print()\n",
    "            print(\"Градиент:\")\n",
    "            print(grad)\n",
    "            print(' ')\n",
    "            print(\"Веса\")\n",
    "            print(self.W)\n",
    "            print()\n",
    "            self.W -= learningRate*grad\n",
    "            grad = self.gradientOfErrorFunc()\n",
    "    "
   ]
  },
  {
   "cell_type": "code",
   "execution_count": 64,
   "metadata": {},
   "outputs": [
    {
     "name": "stdout",
     "output_type": "stream",
     "text": [
      "[[321.45  ]\n",
      " [318.85  ]\n",
      " [308.66  ]\n",
      " ...\n",
      " [ 29.9043]\n",
      " [ 29.8357]\n",
      " [ 29.8557]]\n",
      "[[323.52     1.    ]\n",
      " [315.31     1.    ]\n",
      " [304.3      1.    ]\n",
      " ...\n",
      " [ 29.8486   1.    ]\n",
      " [ 29.99     1.    ]\n",
      " [ 29.3928   1.    ]]\n"
     ]
    }
   ],
   "source": [
    "data = pd.read_csv('HistoricalQuotes.csv')\n",
    "X = data.to_numpy()\n",
    "Y = X[:, [1]]\n",
    "X = X[:,[3]]\n",
    "for i in range(X.shape[0]):\n",
    "    X[i][0] = float(X[i][0][2::])\n",
    "    Y[i][0] = float(Y[i][0][2::])\n",
    "X = np.append(X,np.ones((X.shape[0],1)),axis = 1)\n",
    "X,Y = X.astype('float32'),Y.astype('float32')\n",
    "print(Y)\n",
    "print(X)\n",
    "lin = Lingress(X,Y)\n",
    "lin.Learning()\n",
    "\n"
   ]
  },
  {
   "cell_type": "code",
   "execution_count": 66,
   "metadata": {},
   "outputs": [
    {
     "name": "stdout",
     "output_type": "stream",
     "text": [
      "[258.26]\n"
     ]
    }
   ],
   "source": [
    "openValue = 257.26\n",
    "print(lin.prediction(np.array([openValue,1])))"
   ]
  }
 ],
 "metadata": {
  "kernelspec": {
   "display_name": "Python 3.9.1 64-bit (system)",
   "language": "python",
   "name": "python3"
  },
  "language_info": {
   "codemirror_mode": {
    "name": "ipython",
    "version": 3
   },
   "file_extension": ".py",
   "mimetype": "text/x-python",
   "name": "python",
   "nbconvert_exporter": "python",
   "pygments_lexer": "ipython3",
   "version": "3.9.1"
  },
  "orig_nbformat": 4,
  "vscode": {
   "interpreter": {
    "hash": "c46ca4107e02cc35b8a86c8d0e6548e94f11f1e0488972cbcfefa78e90422c8a"
   }
  }
 },
 "nbformat": 4,
 "nbformat_minor": 2
}
