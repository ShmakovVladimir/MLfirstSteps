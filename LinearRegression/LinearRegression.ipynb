{
 "cells": [
  {
   "cell_type": "markdown",
   "metadata": {},
   "source": [
    "# Линейная регрессия\n",
    "Напишем функцию, принимающую три параметра - набор наблюдений, набор целей, веса. Функция должна вернуть потерю(ошибку обучения) и набор предсказаний."
   ]
  },
  {
   "cell_type": "code",
   "execution_count": 65,
   "metadata": {},
   "outputs": [],
   "source": [
    "import numpy as np\n",
    "import matplotlib.pyplot as plt\n",
    "from typing import Dict\n",
    "from typing import Tuple\n",
    "import pandas as pd"
   ]
  },
  {
   "cell_type": "code",
   "execution_count": 66,
   "metadata": {},
   "outputs": [],
   "source": [
    "class Lingress:\n",
    "    def __init__(self,X: np.ndarray,Y: np.ndarray):\n",
    "        self.X,self.Y = X,Y\n",
    "        self.W = np.ones((self.X.shape[1],1)) #веса со сдвигом, сичтаем, что в тренировочных данных есть единичка\n",
    "    def prediction(self,dataToPredict: np.ndarray) -> np.ndarray:\n",
    "        return np.dot(dataToPredict,self.W)[0]\n",
    "    def errorFunc(self) -> float:\n",
    "        return np.mean(np.power(self.prediction(self.X) - self.Y,2))\n",
    "    def gradientOfErrorFunc(self)->np.ndarray:\n",
    "        return np.dot(self.X.T, (self.Y - self.prediction(self.X))*(-2))\n",
    "    def Learning(self,learningRate = 0.00000001,epsilon = 20):\n",
    "        grad = self.gradientOfErrorFunc()\n",
    "        while self.errorFunc()> epsilon:\n",
    "            print(\"Градиент:\")\n",
    "            print(grad)\n",
    "            print(' ')\n",
    "            print(\"Веса\")\n",
    "            print(self.W)\n",
    "            print()\n",
    "            self.W -= learningRate*grad\n",
    "            grad = self.gradientOfErrorFunc()\n",
    "    "
   ]
  },
  {
   "cell_type": "code",
   "execution_count": 67,
   "metadata": {},
   "outputs": [
    {
     "ename": "IndexError",
     "evalue": "index 1 is out of bounds for axis 0 with size 1",
     "output_type": "error",
     "traceback": [
      "\u001b[1;31m---------------------------------------------------------------------------\u001b[0m",
      "\u001b[1;31mIndexError\u001b[0m                                Traceback (most recent call last)",
      "\u001b[1;32mc:\\Users\\Владимир\\Desktop\\BOTAY!\\ML\\MLfirstSteps\\LinearRegression\\LinearRegression.ipynb Cell 4'\u001b[0m in \u001b[0;36m<cell line: 5>\u001b[1;34m()\u001b[0m\n\u001b[0;32m      <a href='vscode-notebook-cell:/c%3A/Users/%D0%92%D0%BB%D0%B0%D0%B4%D0%B8%D0%BC%D0%B8%D1%80/Desktop/BOTAY%21/ML/MLfirstSteps/LinearRegression/LinearRegression.ipynb#ch0000003?line=3'>4</a>\u001b[0m X \u001b[39m=\u001b[39m X[:,[\u001b[39m3\u001b[39m]]\n\u001b[0;32m      <a href='vscode-notebook-cell:/c%3A/Users/%D0%92%D0%BB%D0%B0%D0%B4%D0%B8%D0%BC%D0%B8%D1%80/Desktop/BOTAY%21/ML/MLfirstSteps/LinearRegression/LinearRegression.ipynb#ch0000003?line=4'>5</a>\u001b[0m \u001b[39mfor\u001b[39;00m i \u001b[39min\u001b[39;00m \u001b[39mrange\u001b[39m(X\u001b[39m.\u001b[39mshape[\u001b[39m0\u001b[39m]):\n\u001b[1;32m----> <a href='vscode-notebook-cell:/c%3A/Users/%D0%92%D0%BB%D0%B0%D0%B4%D0%B8%D0%BC%D0%B8%D1%80/Desktop/BOTAY%21/ML/MLfirstSteps/LinearRegression/LinearRegression.ipynb#ch0000003?line=5'>6</a>\u001b[0m     X[i][\u001b[39m1\u001b[39m] \u001b[39m=\u001b[39m \u001b[39mfloat\u001b[39m(X[i][\u001b[39m1\u001b[39;49m][\u001b[39m2\u001b[39m::])\n\u001b[0;32m      <a href='vscode-notebook-cell:/c%3A/Users/%D0%92%D0%BB%D0%B0%D0%B4%D0%B8%D0%BC%D0%B8%D1%80/Desktop/BOTAY%21/ML/MLfirstSteps/LinearRegression/LinearRegression.ipynb#ch0000003?line=6'>7</a>\u001b[0m     Y[i][\u001b[39m0\u001b[39m] \u001b[39m=\u001b[39m \u001b[39mfloat\u001b[39m(Y[i][\u001b[39m0\u001b[39m][\u001b[39m2\u001b[39m::])\n\u001b[0;32m      <a href='vscode-notebook-cell:/c%3A/Users/%D0%92%D0%BB%D0%B0%D0%B4%D0%B8%D0%BC%D0%B8%D1%80/Desktop/BOTAY%21/ML/MLfirstSteps/LinearRegression/LinearRegression.ipynb#ch0000003?line=7'>8</a>\u001b[0m X \u001b[39m=\u001b[39m np\u001b[39m.\u001b[39mappend(X,np\u001b[39m.\u001b[39mones((X\u001b[39m.\u001b[39mshape[\u001b[39m0\u001b[39m],\u001b[39m1\u001b[39m)),axis \u001b[39m=\u001b[39m \u001b[39m1\u001b[39m)\n",
      "\u001b[1;31mIndexError\u001b[0m: index 1 is out of bounds for axis 0 with size 1"
     ]
    }
   ],
   "source": [
    "data = pd.read_csv('HistoricalQuotes.csv')\n",
    "X = data.to_numpy()\n",
    "Y = X[:, [1]]\n",
    "X = X[:,[3]]\n",
    "for i in range(X.shape[0]):\n",
    "    X[i][0] = float(X[i][0][2::])\n",
    "    Y[i][0] = float(Y[i][0][2::])\n",
    "X = np.append(X,np.ones((X.shape[0],1)),axis = 1)\n",
    "X,Y = X.astype('float32'),Y.astype('float32')\n",
    "print(Y)\n",
    "print(X)\n",
    "lin = Lingress(X,Y)\n",
    "lin.Learning()\n",
    "\n"
   ]
  }
 ],
 "metadata": {
  "kernelspec": {
   "display_name": "Python 3.9.1 64-bit (system)",
   "language": "python",
   "name": "python3"
  },
  "language_info": {
   "codemirror_mode": {
    "name": "ipython",
    "version": 3
   },
   "file_extension": ".py",
   "mimetype": "text/x-python",
   "name": "python",
   "nbconvert_exporter": "python",
   "pygments_lexer": "ipython3",
   "version": "3.9.1"
  },
  "orig_nbformat": 4,
  "vscode": {
   "interpreter": {
    "hash": "c46ca4107e02cc35b8a86c8d0e6548e94f11f1e0488972cbcfefa78e90422c8a"
   }
  }
 },
 "nbformat": 4,
 "nbformat_minor": 2
}
